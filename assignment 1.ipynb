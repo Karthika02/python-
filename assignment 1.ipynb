{
 "cells": [
  {
   "cell_type": "markdown",
   "metadata": {},
   "source": [
    "# - **<font color=DarkBlue>TASK 1<font>**"
   ]
  },
  {
   "cell_type": "markdown",
   "metadata": {},
   "source": [
    "- **<font color=Darkgreen>Question No 1<font>**:\n",
    "    Write a program which will find all such numbers which are divisible by 7 but are not a multiple\n",
    "    of 5, between 2000 and 3200 (both included). The numbers obtained should be printed in a\n",
    "    comma-separated sequence on a single line"
   ]
  },
  {
   "cell_type": "code",
   "execution_count": 2,
   "metadata": {},
   "outputs": [
    {
     "name": "stdout",
     "output_type": "stream",
     "text": [
      "2002 ,\n",
      "2009 ,\n",
      "2016 ,\n",
      "2023 ,\n",
      "2037 ,\n",
      "2044 ,\n",
      "2051 ,\n",
      "2058 ,\n",
      "2072 ,\n",
      "2079 ,\n",
      "2086 ,\n",
      "2093 ,\n",
      "2107 ,\n",
      "2114 ,\n",
      "2121 ,\n",
      "2128 ,\n",
      "2142 ,\n",
      "2149 ,\n",
      "2156 ,\n",
      "2163 ,\n",
      "2177 ,\n",
      "2184 ,\n",
      "2191 ,\n",
      "2198 ,\n",
      "2212 ,\n",
      "2219 ,\n",
      "2226 ,\n",
      "2233 ,\n",
      "2247 ,\n",
      "2254 ,\n",
      "2261 ,\n",
      "2268 ,\n",
      "2282 ,\n",
      "2289 ,\n",
      "2296 ,\n",
      "2303 ,\n",
      "2317 ,\n",
      "2324 ,\n",
      "2331 ,\n",
      "2338 ,\n",
      "2352 ,\n",
      "2359 ,\n",
      "2366 ,\n",
      "2373 ,\n",
      "2387 ,\n",
      "2394 ,\n",
      "2401 ,\n",
      "2408 ,\n",
      "2422 ,\n",
      "2429 ,\n",
      "2436 ,\n",
      "2443 ,\n",
      "2457 ,\n",
      "2464 ,\n",
      "2471 ,\n",
      "2478 ,\n",
      "2492 ,\n",
      "2499 ,\n",
      "2506 ,\n",
      "2513 ,\n",
      "2527 ,\n",
      "2534 ,\n",
      "2541 ,\n",
      "2548 ,\n",
      "2562 ,\n",
      "2569 ,\n",
      "2576 ,\n",
      "2583 ,\n",
      "2597 ,\n",
      "2604 ,\n",
      "2611 ,\n",
      "2618 ,\n",
      "2632 ,\n",
      "2639 ,\n",
      "2646 ,\n",
      "2653 ,\n",
      "2667 ,\n",
      "2674 ,\n",
      "2681 ,\n",
      "2688 ,\n",
      "2702 ,\n",
      "2709 ,\n",
      "2716 ,\n",
      "2723 ,\n",
      "2737 ,\n",
      "2744 ,\n",
      "2751 ,\n",
      "2758 ,\n",
      "2772 ,\n",
      "2779 ,\n",
      "2786 ,\n",
      "2793 ,\n",
      "2807 ,\n",
      "2814 ,\n",
      "2821 ,\n",
      "2828 ,\n",
      "2842 ,\n",
      "2849 ,\n",
      "2856 ,\n",
      "2863 ,\n",
      "2877 ,\n",
      "2884 ,\n",
      "2891 ,\n",
      "2898 ,\n",
      "2912 ,\n",
      "2919 ,\n",
      "2926 ,\n",
      "2933 ,\n",
      "2947 ,\n",
      "2954 ,\n",
      "2961 ,\n",
      "2968 ,\n",
      "2982 ,\n",
      "2989 ,\n",
      "2996 ,\n",
      "3003 ,\n",
      "3017 ,\n",
      "3024 ,\n",
      "3031 ,\n",
      "3038 ,\n",
      "3052 ,\n",
      "3059 ,\n",
      "3066 ,\n",
      "3073 ,\n",
      "3087 ,\n",
      "3094 ,\n",
      "3101 ,\n",
      "3108 ,\n",
      "3122 ,\n",
      "3129 ,\n",
      "3136 ,\n",
      "3143 ,\n",
      "3157 ,\n",
      "3164 ,\n",
      "3171 ,\n",
      "3178 ,\n",
      "3192 ,\n",
      "3199 ,\n"
     ]
    }
   ],
   "source": [
    "for i in range(2000,3200):\n",
    "    if i%7==0 and i%5!=0:\n",
    "        print(i,\",\")"
   ]
  },
  {
   "cell_type": "markdown",
   "metadata": {},
   "source": [
    "- **<font color=Darkgreen>Question No 2<font>**:\n",
    "Write a Python program to accept the user's first and last name and then getting them printed in\n",
    "the the reverse order with a space between first name and last name.\n"
   ]
  },
  {
   "cell_type": "code",
   "execution_count": 3,
   "metadata": {},
   "outputs": [
    {
     "name": "stdout",
     "output_type": "stream",
     "text": [
      "please enter your first_name kothapally\n",
      "please enter your last_namesharath kumar\n",
      "your full name in reverse order : ramuk htarahs yllapahtok\n"
     ]
    }
   ],
   "source": [
    "first_name = input(\"please enter your first_name \")\n",
    "last_name = input(\"please enter your last_name\")\n",
    "name = first_name+\" \"+last_name\n",
    "rev = \"\"\n",
    "for i in name:\n",
    "    rev = i+rev\n",
    "print(\"your full name in reverse order :\",rev)"
   ]
  },
  {
   "cell_type": "markdown",
   "metadata": {},
   "source": [
    "- **<font color=Darkgreen>Question No 3<font>**:\n",
    "    Write a Python program to find the volume of a sphere with diameter 12 cm.\n",
    "    Formula: V=4/3 * π * r3"
   ]
  },
  {
   "cell_type": "code",
   "execution_count": 4,
   "metadata": {},
   "outputs": [],
   "source": [
    "def volume_of_sphere(diameter):\n",
    "    r = diameter/2\n",
    "    π = 22.7\n",
    "    v = 4/3*(π)*(r**3)\n",
    "    return v"
   ]
  },
  {
   "cell_type": "code",
   "execution_count": 5,
   "metadata": {},
   "outputs": [
    {
     "data": {
      "text/plain": [
       "6537.599999999999"
      ]
     },
     "execution_count": 5,
     "metadata": {},
     "output_type": "execute_result"
    }
   ],
   "source": [
    "# to find volume of the spehere with diamter use the below function diameter in \"cms\"\n",
    "volume_of_sphere(12)"
   ]
  },
  {
   "cell_type": "markdown",
   "metadata": {},
   "source": [
    "# - **<font color=DarkBlue>TASK 2<font>**"
   ]
  },
  {
   "cell_type": "markdown",
   "metadata": {},
   "source": [
    "- **<font color=Darkgreen>Question No 1<font>**:\n",
    "    Write a program which accepts a sequence of comma-separated numbers from console and\n",
    "generate a list."
   ]
  },
  {
   "cell_type": "code",
   "execution_count": 6,
   "metadata": {},
   "outputs": [
    {
     "name": "stdout",
     "output_type": "stream",
     "text": [
      "please enter  numbers as comma separated :15,10,20,25,30,35,40,45,50\n",
      "['15', '10', '20', '25', '30', '35', '40', '45', '50']\n"
     ]
    }
   ],
   "source": [
    "numbers = input(\"please enter  numbers as comma separated :\")\n",
    "print(numbers.split(\",\"))"
   ]
  },
  {
   "cell_type": "markdown",
   "metadata": {},
   "source": [
    "- **<font color=Darkgreen>Question No 2<font>**:\n",
    "    Create the below pattern using nested for loop in Python."
   ]
  },
  {
   "cell_type": "raw",
   "metadata": {},
   "source": [
    "*\n",
    "* *\n",
    "* * *\n",
    "* * * *\n",
    "* * * * *\n",
    "* * * *\n",
    "* * *\n",
    "* *"
   ]
  },
  {
   "cell_type": "code",
   "execution_count": 7,
   "metadata": {},
   "outputs": [
    {
     "name": "stdout",
     "output_type": "stream",
     "text": [
      "please enter a number :5\n",
      "\n",
      "* \n",
      "* * \n",
      "* * * \n",
      "* * * * \n",
      "* * * * * \n",
      "* * * * \n",
      "* * * \n",
      "* * \n",
      "* \n"
     ]
    }
   ],
   "source": [
    "n =  int(input(\"please enter a number :\"))\n",
    "for i in range(n):\n",
    "    for j in range(i):\n",
    "        print(\"*\",end=\" \")\n",
    "    print()\n",
    "for i in range(n,0,-1):\n",
    "    for j in range(i):\n",
    "        print(\"*\",end=\" \")\n",
    "    print()"
   ]
  },
  {
   "cell_type": "markdown",
   "metadata": {},
   "source": [
    "- **<font color=Darkgreen>Question No 3<font>**:\n",
    "Write a Python program to reverse a word after accepting the input from the user.\n",
    "Sample Output:\n",
    "Input word: AcadGild\n",
    "Output: dilGdacA"
   ]
  },
  {
   "cell_type": "code",
   "execution_count": 8,
   "metadata": {},
   "outputs": [
    {
     "name": "stdout",
     "output_type": "stream",
     "text": [
      "please enter a string :AcadGild\n"
     ]
    },
    {
     "data": {
      "text/plain": [
       "'dliGdacA'"
      ]
     },
     "execution_count": 8,
     "metadata": {},
     "output_type": "execute_result"
    }
   ],
   "source": [
    "string = input(\"please enter a string :\")\n",
    "def reverse_string(string):\n",
    "    return string[::-1]\n",
    "reverse_string(string)"
   ]
  },
  {
   "cell_type": "markdown",
   "metadata": {},
   "source": [
    "- **<font color=Darkgreen>Question No 4<font>**:"
   ]
  },
  {
   "cell_type": "code",
   "execution_count": 9,
   "metadata": {},
   "outputs": [
    {
     "name": "stdout",
     "output_type": "stream",
     "text": [
      "OUTPUT : \n",
      "WE, THE PEOPLE OF INDIA, \n",
      "\thaving solemnly resolved to constitute India into a SOVEREIGN,\n",
      "\t\tSOCIALIST, SECULAR, DEMOCRATIC REPUBLIC  \n",
      "\t\t and to secure to all its citizens\n"
     ]
    }
   ],
   "source": [
    "print(\"OUTPUT :\",\"\\n\"\n",
    "      \"WE, THE PEOPLE OF INDIA, \\n\\thaving solemnly resolved to constitute India into a SOVEREIGN,\\n\\t\\tSOCIALIST, SECULAR, DEMOCRATIC REPUBLIC  \\n\\t\\t and to secure to all its citizens\")"
   ]
  },
  {
   "cell_type": "markdown",
   "metadata": {},
   "source": [
    "# - **<font color=red>THANK YOU<font>**"
   ]
  },
  {
   "cell_type": "code",
   "execution_count": null,
   "metadata": {},
   "outputs": [],
   "source": []
  }
 ],
 "metadata": {
  "kernelspec": {
   "display_name": "Python 3",
   "language": "python",
   "name": "python3"
  },
  "language_info": {
   "codemirror_mode": {
    "name": "ipython",
    "version": 3
   },
   "file_extension": ".py",
   "mimetype": "text/x-python",
   "name": "python",
   "nbconvert_exporter": "python",
   "pygments_lexer": "ipython3",
   "version": "3.7.3"
  }
 },
 "nbformat": 4,
 "nbformat_minor": 2
}
